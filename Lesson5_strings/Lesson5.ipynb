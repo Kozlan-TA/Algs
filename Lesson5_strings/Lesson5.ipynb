{
 "cells": [
  {
   "cell_type": "code",
   "execution_count": 1,
   "metadata": {},
   "outputs": [
    {
     "name": "stdout",
     "output_type": "stream",
     "text": [
      "Есть контакт!\n",
      "Есть контакт!\n",
      "Мимо!\n"
     ]
    }
   ],
   "source": [
    "# Задание 1\n",
    "def search_substr(substr: str, st: str):\n",
    "    if substr.lower() in st.lower():\n",
    "        return \"Есть контакт!\"\n",
    "    else:\n",
    "        return \"Мимо!\"\n",
    "\n",
    "print(search_substr('Кол', 'коЛобОк'))\n",
    "print(search_substr('Колобок', 'колобоК'))\n",
    "print(search_substr('Кол', 'Плов'))"
   ]
  },
  {
   "cell_type": "code",
   "execution_count": 2,
   "metadata": {},
   "outputs": [
    {
     "name": "stdout",
     "output_type": "stream",
     "text": [
      "(0, 3)\n",
      "(0, 6)\n",
      "(0, 0)\n",
      "(None, None)\n"
     ]
    }
   ],
   "source": [
    "# Задание 2\n",
    "def first_last(letter:str, st: str) -> tuple:\n",
    "    first = st.find(letter)\n",
    "    if first != -1:\n",
    "        last = first\n",
    "        for i in range(len(st)):\n",
    "            if st[i:].find(letter) != -1:\n",
    "                last = i\n",
    "        return (first, last)\n",
    "    else:\n",
    "        return (None, None)\n",
    "    \n",
    "print(first_last('a', 'abba'))\n",
    "print(first_last('a', 'abbaaaab'))\n",
    "print(first_last('a', 'a'))\n",
    "print(first_last('a', 'spring'))"
   ]
  },
  {
   "cell_type": "code",
   "execution_count": 3,
   "metadata": {},
   "outputs": [
    {
     "name": "stdout",
     "output_type": "stream",
     "text": [
      "А - 2, а - 1\n",
      "а - 3, л - 2, о - 2\n"
     ]
    }
   ],
   "source": [
    "# Задание 3\n",
    "def top3(st: str) -> str:\n",
    "    letters = {}\n",
    "    st = st.replace(\" \", \"\")\n",
    "    for i in set(st):\n",
    "        letters[i] = st.count(i)\n",
    "    letters = sorted(letters.items(), key = lambda x: x[1], reverse = True)\n",
    "    return \", \".join([f\"{k} - {v}\" for k, v in letters[:3]])\n",
    "\n",
    "\n",
    "print(top3('АаА'))\n",
    "print(top3('Голова думала'))"
   ]
  },
  {
   "cell_type": "code",
   "execution_count": 4,
   "metadata": {},
   "outputs": [
    {
     "name": "stdout",
     "output_type": "stream",
     "text": [
      "голова\n",
      "слон\n"
     ]
    }
   ],
   "source": [
    "# Задание 4\n",
    "def cleaned_str(st: str) -> str:\n",
    "    result = \"\"\n",
    "    for i in range(len(st)):\n",
    "        if (st[i]) != \"@\":\n",
    "            result += st[i]\n",
    "        else:\n",
    "            result = result[:-1]\n",
    "    return result\n",
    "\n",
    "print(cleaned_str('гр@оо@лк@оц@ва'))\n",
    "print(cleaned_str('сварка@@@@@лоб@ну@'))"
   ]
  }
 ],
 "metadata": {
  "kernelspec": {
   "display_name": "6.86x",
   "language": "python",
   "name": "python3"
  },
  "language_info": {
   "codemirror_mode": {
    "name": "ipython",
    "version": 3
   },
   "file_extension": ".py",
   "mimetype": "text/x-python",
   "name": "python",
   "nbconvert_exporter": "python",
   "pygments_lexer": "ipython3",
   "version": "3.10.4"
  }
 },
 "nbformat": 4,
 "nbformat_minor": 2
}
