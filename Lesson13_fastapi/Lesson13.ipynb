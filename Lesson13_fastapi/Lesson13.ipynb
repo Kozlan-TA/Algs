{
 "cells": [
  {
   "cell_type": "code",
   "execution_count": 14,
   "metadata": {},
   "outputs": [],
   "source": [
    "import requests"
   ]
  },
  {
   "cell_type": "markdown",
   "metadata": {},
   "source": [
    "## Задание 3\n",
    "При запросе /get_all_data (метод get) - выдаются все данные из таблицы people. И выводятся на экран в браузере.\n"
   ]
  },
  {
   "cell_type": "code",
   "execution_count": 15,
   "metadata": {},
   "outputs": [
    {
     "name": "stdout",
     "output_type": "stream",
     "text": [
      "[{\"job\":\"Office manager\",\"company\":\"Mejia, Wilson and Thompson\",\"ssn\":\"835-64-5754\",\"residence\":\"2879 Hayden Prairie\\nPort Denise, SD 31134\",\"current_location\":\"[-18.167749, 37.060032]\",\"blood_group\":\"B+\",\"website\":\"http://woodard-alvarez.biz/\",\"username\":\"aguilargregory\",\"name\":\"Derrick Valdez\",\"address\":\"2098 Aaron Keys\\nSimmonsfort, MN 76997\",\"mail\":\"ellisdavid@gmail.com\",\"birthdate\":\"2003-01-14\"},{\"job\":\"Advertising art director\",\"company\":\"Long, Rivera and Rhodes\",\"ssn\":\"319-91-4421\",\"residence\":\"49209 Kristina Islands Suite 721\\nEdwinland, ID 60652\",\"current_location\":\"[-59.1578925, 70.372769]\",\"blood_group\":\"A+\",\"website\":\"http://fischer-hobbs.com/\",\"username\":\"kbennett\",\"name\":\"Joseph Thompson\",\"address\":\"2612 Jeremy Divide Suite 689\\nHarrisonburgh, DE 69346\",\"mail\":\"karen95@gmail.com\",\"birthdate\":\"1926-07-01\"},{\"job\":\"Veterinary surgeon\",\"company\":\"Shaffer Group\",\"ssn\":\"289-26-4425\",\"residence\":\"PSC 2016, Box 5390\\nAPO AE 75805\",\"current_location\":\"[0.9792505, 178.623771]\",\"blood_group\":\"O+\",\"website\":\"https://www.chambers.org/\",\"username\":\"petersonbecky\",\"name\":\"Tommy Randolph\",\"address\":\"95453 Anna Walk Apt. 576\\nJonesland, OK 54697\",\"mail\":\"kimberly33@yahoo.com\",\"birthdate\":\"2004-07-23\"},{\"job\":\"Exercise physiologist\",\"company\":\"Jenkins, Black and Elliott\",\"ssn\":\"297-31-4152\",\"residence\":\"944 Christina Inlet\\nLake Johnathanmouth, FL 17527\",\"current_location\":\"[10.7733275, 39.002224]\",\"blood_group\":\"O-\",\"website\":\"http://www.gardner-grimes.com/\",\"username\":\"rcarney\",\"name\":\"Courtney Mendoza\",\"address\":\"24976 Adams Walks Suite 088\\nPereztown, CT 63341\",\"mail\":\"patricia96@yahoo.com\",\"birthdate\":\"1914-08-28\"},{\"job\":\"Museum education officer\",\"company\":\"Maxwell, Erickson and Webb\",\"ssn\":\"345-92-6465\",\"residence\":\"0520 Roberts Shoals Apt. 898\\nGamblemouth, TX 85434\",\"current_location\":\"[-12.851037, -150.271409]\",\"blood_group\":\"AB+\",\"website\":\"https://www.lindsey.com/\",\"username\":\"johnnicholson\",\"name\":\"Grace Palmer\",\"address\":\"256 James Hollow Apt. 978\\nNew Matthew, WI 97991\",\"mail\":\"timothymarshall@hotmail.com\",\"birthdate\":\"1979-08-09\"}]\n"
     ]
    }
   ],
   "source": [
    "# Компьютер слабый, поэтому такой запрос не тянет (поэтому ограничил 5 строками чтобы показать что работает)\n",
    "data = requests.get(url='http://localhost:8000/get_all_data')\n",
    "print(data.text)"
   ]
  },
  {
   "cell_type": "markdown",
   "metadata": {},
   "source": [
    "## Задание 4\n",
    "При запросе /get_ten_data (метод get) - выдаются первые 10 строк из таблицы people. И выводятся на экран в браузере.\n"
   ]
  },
  {
   "cell_type": "code",
   "execution_count": 16,
   "metadata": {},
   "outputs": [
    {
     "name": "stdout",
     "output_type": "stream",
     "text": [
      "[{\"job\":\"Office manager\",\"company\":\"Mejia, Wilson and Thompson\",\"ssn\":\"835-64-5754\",\"residence\":\"2879 Hayden Prairie\\nPort Denise, SD 31134\",\"current_location\":\"[-18.167749, 37.060032]\",\"blood_group\":\"B+\",\"website\":\"http://woodard-alvarez.biz/\",\"username\":\"aguilargregory\",\"name\":\"Derrick Valdez\",\"address\":\"2098 Aaron Keys\\nSimmonsfort, MN 76997\",\"mail\":\"ellisdavid@gmail.com\",\"birthdate\":\"2003-01-14\"},{\"job\":\"Advertising art director\",\"company\":\"Long, Rivera and Rhodes\",\"ssn\":\"319-91-4421\",\"residence\":\"49209 Kristina Islands Suite 721\\nEdwinland, ID 60652\",\"current_location\":\"[-59.1578925, 70.372769]\",\"blood_group\":\"A+\",\"website\":\"http://fischer-hobbs.com/\",\"username\":\"kbennett\",\"name\":\"Joseph Thompson\",\"address\":\"2612 Jeremy Divide Suite 689\\nHarrisonburgh, DE 69346\",\"mail\":\"karen95@gmail.com\",\"birthdate\":\"1926-07-01\"},{\"job\":\"Veterinary surgeon\",\"company\":\"Shaffer Group\",\"ssn\":\"289-26-4425\",\"residence\":\"PSC 2016, Box 5390\\nAPO AE 75805\",\"current_location\":\"[0.9792505, 178.623771]\",\"blood_group\":\"O+\",\"website\":\"https://www.chambers.org/\",\"username\":\"petersonbecky\",\"name\":\"Tommy Randolph\",\"address\":\"95453 Anna Walk Apt. 576\\nJonesland, OK 54697\",\"mail\":\"kimberly33@yahoo.com\",\"birthdate\":\"2004-07-23\"},{\"job\":\"Exercise physiologist\",\"company\":\"Jenkins, Black and Elliott\",\"ssn\":\"297-31-4152\",\"residence\":\"944 Christina Inlet\\nLake Johnathanmouth, FL 17527\",\"current_location\":\"[10.7733275, 39.002224]\",\"blood_group\":\"O-\",\"website\":\"http://www.gardner-grimes.com/\",\"username\":\"rcarney\",\"name\":\"Courtney Mendoza\",\"address\":\"24976 Adams Walks Suite 088\\nPereztown, CT 63341\",\"mail\":\"patricia96@yahoo.com\",\"birthdate\":\"1914-08-28\"},{\"job\":\"Museum education officer\",\"company\":\"Maxwell, Erickson and Webb\",\"ssn\":\"345-92-6465\",\"residence\":\"0520 Roberts Shoals Apt. 898\\nGamblemouth, TX 85434\",\"current_location\":\"[-12.851037, -150.271409]\",\"blood_group\":\"AB+\",\"website\":\"https://www.lindsey.com/\",\"username\":\"johnnicholson\",\"name\":\"Grace Palmer\",\"address\":\"256 James Hollow Apt. 978\\nNew Matthew, WI 97991\",\"mail\":\"timothymarshall@hotmail.com\",\"birthdate\":\"1979-08-09\"},{\"job\":\"Research officer, political party\",\"company\":\"Preston-Martinez\",\"ssn\":\"328-30-8860\",\"residence\":\"0734 Green Key Apt. 903\\nNew Reneechester, NV 86059\",\"current_location\":\"[-31.0974785, 142.31226]\",\"blood_group\":\"O+\",\"website\":\"http://vasquez-holmes.com/\",\"username\":\"erin96\",\"name\":\"Amanda Thomas\",\"address\":\"150 Wanda Pine\\nWest Thomasshire, LA 88483\",\"mail\":\"lshelton@gmail.com\",\"birthdate\":\"1962-03-05\"},{\"job\":\"Tax adviser\",\"company\":\"Jones, Flores and Gomez\",\"ssn\":\"437-38-0767\",\"residence\":\"58312 Davis Run\\nSouth Marie, VA 28912\",\"current_location\":\"[-45.7279105, -103.831335]\",\"blood_group\":\"AB+\",\"website\":\"https://www.tran-wilkinson.com/\",\"username\":\"terrichang\",\"name\":\"Brittney Miller\",\"address\":\"58330 Alexis Stravenue\\nWest Dennisview, NV 11927\",\"mail\":\"michele34@gmail.com\",\"birthdate\":\"1938-07-31\"},{\"job\":\"Photographer\",\"company\":\"Morgan-Howard\",\"ssn\":\"898-73-0599\",\"residence\":\"9712 Joseph Forges\\nNorth Patriciahaven, OR 41988\",\"current_location\":\"[-66.350147, -116.56326]\",\"blood_group\":\"O+\",\"website\":\"http://www.jones-mcknight.biz/\",\"username\":\"pcarrillo\",\"name\":\"Cheryl Thomas\",\"address\":\"993 Hicks Stream Apt. 719\\nLake David, WI 84432\",\"mail\":\"matthew89@hotmail.com\",\"birthdate\":\"1958-07-19\"},{\"job\":\"Chief Technology Officer\",\"company\":\"Flores-Rose\",\"ssn\":\"089-19-7079\",\"residence\":\"610 Figueroa Hill\\nBurnstown, MD 77002\",\"current_location\":\"[27.1703545, -156.841096]\",\"blood_group\":\"O+\",\"website\":\"http://www.mullins.info/\",\"username\":\"moralesjill\",\"name\":\"Jacqueline Smith\",\"address\":\"580 Cross Ford\\nSouth Michelleshire, NC 37309\",\"mail\":\"catherine38@gmail.com\",\"birthdate\":\"1913-03-05\"},{\"job\":\"Chartered public finance accountant\",\"company\":\"Hughes PLC\",\"ssn\":\"041-10-1239\",\"residence\":\"10234 Atkinson Way Apt. 306\\nNew Sabrina, IL 69081\",\"current_location\":\"[75.2384455, 61.08691]\",\"blood_group\":\"AB-\",\"website\":\"http://gonzalez-kent.com/\",\"username\":\"nstewart\",\"name\":\"Michael Nunez\",\"address\":\"Unit 0680 Box 7967\\nDPO AA 71493\",\"mail\":\"amyturner@hotmail.com\",\"birthdate\":\"1961-06-03\"}]\n"
     ]
    }
   ],
   "source": [
    "data = requests.get(url='http://localhost:8000/get_ten_data')\n",
    "print(data.text)"
   ]
  },
  {
   "cell_type": "markdown",
   "metadata": {},
   "source": [
    "## Задание 5\n",
    "При запросе /search_by_name (метод post) - выполняться поиск по имени в таблице people. И выводятся на экран в браузере."
   ]
  },
  {
   "cell_type": "code",
   "execution_count": 19,
   "metadata": {},
   "outputs": [
    {
     "name": "stdout",
     "output_type": "stream",
     "text": [
      "[{\"job\":\"Building control surveyor\",\"company\":\"Kennedy Group\",\"ssn\":\"503-73-9548\",\"residence\":\"4396 Smith Fords\\nSouth Michaelhaven, KY 96010\",\"current_location\":\"[-42.66207, 9.749467]\",\"blood_group\":\"O+\",\"website\":\"http://www.crawford.com/\",\"username\":\"karenlogan\",\"name\":\"Larry Morales\",\"address\":\"12020 Jones Fall Apt. 711\\nCollinsmouth, AZ 80564\",\"mail\":\"colleen41@yahoo.com\",\"birthdate\":\"1988-10-04\"}]\n"
     ]
    }
   ],
   "source": [
    "data = requests.post(url='http://localhost:8000/search_by_name', data={'name': 'Larry Morales'})\n",
    "print(data.text)"
   ]
  },
  {
   "cell_type": "code",
   "execution_count": null,
   "metadata": {},
   "outputs": [],
   "source": []
  }
 ],
 "metadata": {
  "kernelspec": {
   "display_name": "6.86x",
   "language": "python",
   "name": "python3"
  },
  "language_info": {
   "codemirror_mode": {
    "name": "ipython",
    "version": 3
   },
   "file_extension": ".py",
   "mimetype": "text/x-python",
   "name": "python",
   "nbconvert_exporter": "python",
   "pygments_lexer": "ipython3",
   "version": "3.10.4"
  }
 },
 "nbformat": 4,
 "nbformat_minor": 2
}
