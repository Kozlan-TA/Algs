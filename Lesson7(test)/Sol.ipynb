{
 "cells": [
  {
   "cell_type": "markdown",
   "metadata": {},
   "source": [
    "## Контрольная работа\n",
    "*выполнение до 03.10.2024 18:00*  \n",
    "студент - Козлан Тимофей"
   ]
  },
  {
   "cell_type": "markdown",
   "metadata": {},
   "source": [
    "### Задание 1\n",
    "Сделайте функцию, которая параметром будет принимать список и\n",
    "удалять из него все дубли.\n"
   ]
  },
  {
   "cell_type": "code",
   "execution_count": 1,
   "metadata": {},
   "outputs": [
    {
     "name": "stdout",
     "output_type": "stream",
     "text": [
      "[1, 2, 3, 1, 1, 4, 5, 2, 2, 3, 1]\n",
      "[1, 2, 3, 4, 5]\n"
     ]
    }
   ],
   "source": [
    "def unique(lst: list) -> list:\n",
    "    return list(set(lst))\n",
    "\n",
    "a = [1, 2, 3, 1, 1, 4, 5, 2, 2, 3, 1]\n",
    "print(a)\n",
    "print(unique(a))"
   ]
  },
  {
   "cell_type": "markdown",
   "metadata": {},
   "source": [
    "### Задание 2\n",
    "Сделайте функцию, которая вернет текущий день недели словом."
   ]
  },
  {
   "cell_type": "code",
   "execution_count": 5,
   "metadata": {},
   "outputs": [
    {
     "name": "stdout",
     "output_type": "stream",
     "text": [
      "понедельник\n",
      "вторник\n",
      "воскресенье\n",
      "четверг\n"
     ]
    }
   ],
   "source": [
    "def day_name(n: int):\n",
    "    days = {0: \"понедельник\", 1: \"вторник\", 2: \"среда\", 3: \"четверг\", 4: \"пятница\", 5: \"суббота\", 6: \"воскресенье\"}\n",
    "    return days[n]\n",
    "\n",
    "print(day_name(0))\n",
    "print(day_name(1))\n",
    "print(day_name(6))\n",
    "print(day_name(3))"
   ]
  },
  {
   "cell_type": "markdown",
   "metadata": {},
   "source": [
    "### Задание 3\n",
    "Сделайте функцию, которая параметром будет получать дату, а возвращать день недели словом, соответствующий этой дате"
   ]
  },
  {
   "cell_type": "code",
   "execution_count": 8,
   "metadata": {},
   "outputs": [
    {
     "name": "stdout",
     "output_type": "stream",
     "text": [
      "понедельник\n",
      "пятница\n"
     ]
    }
   ],
   "source": [
    "from datetime import date\n",
    "\n",
    "def week_day(_date: date):\n",
    "    days = {0: \"понедельник\", 1: \"вторник\", 2: \"среда\", 3: \"четверг\", 4: \"пятница\", 5: \"суббота\", 6: \"воскресенье\"}\n",
    "    return days[_date.weekday()]\n",
    "\n",
    "print(week_day(date(2024, 9, 30)))\n",
    "print(week_day(date(2024, 3, 1)))"
   ]
  },
  {
   "cell_type": "markdown",
   "metadata": {},
   "source": [
    "### Задание 4\n",
    "Сделайте функцию, которая параметром будет принимать секунды, а возвращать количество суток, соответствующих этим секундам."
   ]
  },
  {
   "cell_type": "code",
   "execution_count": 11,
   "metadata": {},
   "outputs": [
    {
     "name": "stdout",
     "output_type": "stream",
     "text": [
      "1\n",
      "0\n",
      "2\n",
      "400\n"
     ]
    }
   ],
   "source": [
    "def full_days(secs: int):\n",
    "    return secs // 86400\n",
    "\n",
    "print(full_days(93603))\n",
    "print(full_days(4534))\n",
    "print(full_days(174435))\n",
    "print(full_days(34584593))"
   ]
  },
  {
   "cell_type": "markdown",
   "metadata": {},
   "source": [
    "### Задание 5\n",
    "Сделайте функцию, которая параметром будет получать дату, а возвращать знак зодиака, соответствующий этой дате.\n"
   ]
  },
  {
   "cell_type": "code",
   "execution_count": 20,
   "metadata": {},
   "outputs": [
    {
     "name": "stdout",
     "output_type": "stream",
     "text": [
      "Овен\n"
     ]
    }
   ],
   "source": [
    "from datetime import date\n",
    "\n",
    "def zodiac(data: date):\n",
    "    month = data.month\n",
    "    day = data.day\n",
    "    if (month == 1): return \"Козерог\" if day < 21 else \"Водолей\" #\n",
    "    elif (month == 2): return \"Водолей\" if day < 21 else \"Рыбы\" #\n",
    "    elif (month == 3): return \"Рыбы\" if day < 21 else \"Овен\" #\n",
    "    elif (month == 4): return \"Овен\" if day < 20 else \"Телец\" #\n",
    "    elif (month == 5): return \"Телец\" if day < 21 else \"Близнецы\" #\n",
    "    elif (month == 6): return \"Близнецы\" if day < 22 else \"Рак\"\n",
    "    elif (month == 7): return \"Рак\" if day < 23 else \"Лев\"\n",
    "    elif (month == 8): return \"Лев\" if day < 23 else \"Дева\"\n",
    "    elif (month == 9): return \"Дева\" if day < 23 else \"Весы\"\n",
    "    elif (month == 10): return \"Весы\" if day < 24 else \"Скорпион\"\n",
    "    elif (month == 11): return \"Скорпион\" if day < 22 else \"Стрелец\"\n",
    "    else: return \"Стрелец\" if day < 22 else \"Козерог\"\n",
    "\n",
    "print(zodiac(date(2002, 4, 13)))"
   ]
  },
  {
   "cell_type": "markdown",
   "metadata": {},
   "source": [
    "### Задание 6\n",
    "Сделайте функцию, которая будет возвращать сколько дней прошло или осталось до заданной даты в году, в зависимости от того, была уже эта дата или нет."
   ]
  },
  {
   "cell_type": "code",
   "execution_count": 31,
   "metadata": {},
   "outputs": [
    {
     "name": "stdout",
     "output_type": "stream",
     "text": [
      "1\n",
      "93\n",
      "0\n"
     ]
    }
   ],
   "source": [
    "from datetime import date\n",
    "\n",
    "def count_days(target: date):\n",
    "    return abs((date.today() - target).days)\n",
    "\n",
    "print(count_days(date(2024, 9, 29))) # Со вчера прошёл один день\n",
    "print(count_days(date(2025, 1, 1))) # До Нового Года\n",
    "print(count_days(date(2024, 9, 30))) # Сегодня - прошло ноль дней"
   ]
  },
  {
   "cell_type": "markdown",
   "metadata": {},
   "source": [
    "### Задание 7\n",
    "Сделайте функцию, которая будет возвращать сколько дней осталось до конца текущего месяца.\n"
   ]
  },
  {
   "cell_type": "code",
   "execution_count": 33,
   "metadata": {},
   "outputs": [
    {
     "name": "stdout",
     "output_type": "stream",
     "text": [
      "0\n"
     ]
    }
   ],
   "source": [
    "from datetime import date\n",
    "import calendar\n",
    "\n",
    "def till_end():\n",
    "    data = date.today()\n",
    "    _, days = calendar.monthrange(data.year, data.month)\n",
    "    return days - data.day\n",
    "\n",
    "print(till_end())"
   ]
  },
  {
   "cell_type": "markdown",
   "metadata": {},
   "source": [
    "### Задание 8\n",
    "Сделайте функцию, которая заполнит список N случайными числами из заданного промежутка."
   ]
  },
  {
   "cell_type": "code",
   "execution_count": 34,
   "metadata": {},
   "outputs": [
    {
     "name": "stdout",
     "output_type": "stream",
     "text": [
      "Список а: []\n",
      "Заполненный список a: [11, 4, 3, 15, 4, 13, 5, 14, 0, 15]\n"
     ]
    }
   ],
   "source": [
    "import random\n",
    "\n",
    "def random_list(lst: list, n: int, n_min: int, n_max: int):\n",
    "    for i in range(n):\n",
    "        lst.append(random.randint(n_min, n_max))\n",
    "\n",
    "a = []\n",
    "print(f\"Список а: {a}\")\n",
    "random_list(a, 10, 0, 15)\n",
    "print(f\"Заполненный список a: {a}\")"
   ]
  },
  {
   "cell_type": "markdown",
   "metadata": {},
   "source": [
    "### Задание 9\n",
    "Дан список событий за определенные месяцы, хранящийся в следующей структуре:\n",
    "```python\n",
    "events = [\n",
    "    {\n",
    "    'date': '2019-12'\n",
    "    'event': 'name1'\n",
    "    },\n",
    "    {\n",
    "    'date': '2019-12'\n",
    "    'event': 'name2'\n",
    "    },\n",
    "    {\n",
    "    'date': '2019-11'\n",
    "    'event': 'name3'\n",
    "    },\n",
    "    {\n",
    "    'date': '2019-11'\n",
    "    'event': 'name4'\n",
    "    },\n",
    "    {\n",
    "    'date': '2020-10'\n",
    "    'event': 'name5'\n",
    "    },\n",
    "    {\n",
    "    'date': '2020-10'\n",
    "    'event': 'name6'\n",
    "    },\n",
    "    {\n",
    "    'date': '2020-11'\n",
    "    'event': 'name5'\n",
    "    },\n",
    "    {\n",
    "    'date': '2020-11'\n",
    "    'event': 'name6'\n",
    "    },\n",
    "    {\n",
    "    'date': '2020-12'\n",
    "    'event': 'name7'\n",
    "    },\n",
    "    {\n",
    "    'date': '2020-12'\n",
    "    'event': 'name8'\n",
    "    },\n",
    "    {\n",
    "    'date': '2020-12'\n",
    "    'event': 'name9'\n",
    "    },\n",
    "]\n",
    "#Напишите код, которой переделает структуру данных вот в такую:\n",
    "{\n",
    "    2019: {\n",
    "        11: [список событий],\n",
    "        12: [список событий],\n",
    "    },\n",
    "    2020: {\n",
    "        10: [список событий],\n",
    "        11: [список событий],\n",
    "        12: [список событий],\n",
    "    }\n",
    "}\n",
    "```"
   ]
  },
  {
   "cell_type": "code",
   "execution_count": 6,
   "metadata": {},
   "outputs": [
    {
     "name": "stdout",
     "output_type": "stream",
     "text": [
      "{2019: {12: ['name1', 'name2'], 11: ['name3', 'name4']}, 2020: {10: ['name5', 'name6'], 11: ['name5', 'name6'], 12: ['name7', 'name8', 'name9']}}\n"
     ]
    }
   ],
   "source": [
    "events = [\n",
    "    {\n",
    "    'date': '2019-12',\n",
    "    'event': 'name1',\n",
    "    },\n",
    "    {\n",
    "    'date': '2019-12',\n",
    "    'event': 'name2',\n",
    "    },\n",
    "    {\n",
    "    'date': '2019-11',\n",
    "    'event': 'name3',\n",
    "    },\n",
    "    {\n",
    "    'date': '2019-11',\n",
    "    'event': 'name4',\n",
    "    },\n",
    "    {\n",
    "    'date': '2020-10',\n",
    "    'event': 'name5',\n",
    "    },\n",
    "    {\n",
    "    'date': '2020-10',\n",
    "    'event': 'name6',\n",
    "    },\n",
    "    {\n",
    "    'date': '2020-11',\n",
    "    'event': 'name5',\n",
    "    },\n",
    "    {\n",
    "    'date': '2020-11',\n",
    "    'event': 'name6',\n",
    "    },\n",
    "    {\n",
    "    'date': '2020-12',\n",
    "    'event': 'name7',\n",
    "    },\n",
    "    {\n",
    "    'date': '2020-12',\n",
    "    'event': 'name8',\n",
    "    },\n",
    "    {\n",
    "    'date': '2020-12',\n",
    "    'event': 'name9',\n",
    "    },\n",
    "]\n",
    "\n",
    "groped_events = {}\n",
    "for event in events:\n",
    "    groped_events.setdefault(int(event[\"date\"][:4]), {}).setdefault(int(event[\"date\"][5:]), []).append(event[\"event\"])\n",
    "\n",
    "print(groped_events)"
   ]
  },
  {
   "cell_type": "markdown",
   "metadata": {},
   "source": [
    "### Задание 10\n",
    "Дан такой словарь со списком дел за определенную дату:  \n",
    "```python\n",
    "affairs = {\n",
    "    '2019-12-31': ['список дел'],\n",
    "    '2018-11-29': ['список дел'],\n",
    "    '2018-11-30': ['список дел'],\n",
    "    '2018-12-27': ['список дел'],\n",
    "    '2019-12-29': ['список дел'],\n",
    "    '2019-12-30': ['список дел'],\n",
    "    '2018-12-30': ['список дел'],\n",
    "    '2018-12-31': ['список дел'],\n",
    "}\n",
    "```\n",
    "Выведите на экран все дела за 2018 год."
   ]
  },
  {
   "cell_type": "code",
   "execution_count": 12,
   "metadata": {},
   "outputs": [
    {
     "name": "stdout",
     "output_type": "stream",
     "text": [
      "Дела за 2018 год: Python, ML, DL, Кофе, Чай\n"
     ]
    }
   ],
   "source": [
    "affairs = {\n",
    "    '2019-12-31': ['Кофе'],\n",
    "    '2018-11-29': ['Python'],\n",
    "    '2018-11-30': ['ML'],\n",
    "    '2018-12-27': ['DL'],\n",
    "    '2019-12-29': ['Time series forecasting'],\n",
    "    '2019-12-30': ['MLops'],\n",
    "    '2018-12-30': ['Кофе'],\n",
    "    '2018-12-31': ['Чай'],\n",
    "}\n",
    "\n",
    "new_affairs = []\n",
    "\n",
    "for k, v in affairs.items():\n",
    "    if k[:4] == \"2018\":\n",
    "        new_affairs.append(*v)\n",
    "\n",
    "print(f\"Дела за 2018 год: {', '.join(new_affairs)}\")"
   ]
  },
  {
   "cell_type": "markdown",
   "metadata": {},
   "source": [
    "### Задание 11\n",
    "Дан произвольный двумерный список:\n",
    "```python\n",
    "[\n",
    "    [11, 12, 13, 14, 15],\n",
    "    [21, 22, 23, 24, 25],\n",
    "    [31, 32, 33, 34, 35],\n",
    "    [41, 42, 43, 44, 45],\n",
    "    [51, 52, 53, 54, 55],\n",
    "]\n",
    "```\n",
    "Получите список элементов его главной диагонали"
   ]
  },
  {
   "cell_type": "code",
   "execution_count": 13,
   "metadata": {},
   "outputs": [
    {
     "name": "stdout",
     "output_type": "stream",
     "text": [
      "[11, 22, 33, 44, 55]\n"
     ]
    }
   ],
   "source": [
    "lst = [\n",
    "    [11, 12, 13, 14, 15],\n",
    "    [21, 22, 23, 24, 25],\n",
    "    [31, 32, 33, 34, 35],\n",
    "    [41, 42, 43, 44, 45],\n",
    "    [51, 52, 53, 54, 55],\n",
    "]\n",
    "\n",
    "elems = []\n",
    "\n",
    "for i in range(len(lst)):\n",
    "    elems.append(lst[i][i])\n",
    "\n",
    "print(elems)"
   ]
  },
  {
   "cell_type": "markdown",
   "metadata": {},
   "source": [
    "### Задание 12\n",
    "Дан некоторый URL:\n",
    "```python\n",
    "url = 'http://test.com/dir1/dir2/dir3/page.html'\n",
    "```\n",
    "Получите из него последовательный набор папок:  \n",
    "```python\n",
    "[\n",
    "    '/dir1/dir2/dir3/',\n",
    "    '/dir2/dir3/',\n",
    "    '/dir3/'\n",
    "]\n",
    "```"
   ]
  },
  {
   "cell_type": "code",
   "execution_count": 21,
   "metadata": {},
   "outputs": [
    {
     "name": "stdout",
     "output_type": "stream",
     "text": [
      "['/dir1/dir2/dir3/', '/dir2/dir3/', '/dir3/']\n"
     ]
    }
   ],
   "source": [
    "url = 'http://test.com/dir1/dir2/dir3/page.html'\n",
    "\n",
    "result = []\n",
    "\n",
    "result.append(url[15:31])\n",
    "result.append(url[20:31])\n",
    "result.append(url[25:31])\n",
    "\n",
    "target = [\n",
    "    '/dir1/dir2/dir3/',\n",
    "    '/dir2/dir3/',\n",
    "    '/dir3/'\n",
    "]\n",
    "\n",
    "print(result)\n",
    "assert result == target"
   ]
  },
  {
   "cell_type": "markdown",
   "metadata": {},
   "source": [
    "### Задание 13\n",
    "Сделайте функцию, которая будет устанавливать правильную форму существительного после числа. Вот как должна работать эта функция:  \n",
    "```python\n",
    "func(2, 'яблоко', 'яблока', 'яблок'); # выведет '2 яблока'\n",
    "func(1, 'яблоко', 'яблока', 'яблок'); # выведет '1 яблоко'\n",
    "func(3, 'яблоко', 'яблока', 'яблок'); # выведет '3 яблока'\n",
    "func(4, 'яблоко', 'яблока', 'яблок'); # выведет '4 яблока'\n",
    "func(5, 'яблоко', 'яблока', 'яблок'); # выведет '5 яблок'\n",
    "func(11, 'яблоко', 'яблока', 'яблок'); # выведет '11 яблок'\n",
    "func(12, 'яблоко', 'яблока', 'яблок'); # выведет '12 яблок'\n",
    "func(21, 'яблоко', 'яблока', 'яблок'); # выведет '21 яблоко'\n",
    "func(23, 'яблоко', 'яблока', 'яблок'); # выведет '23 яблока'\n",
    "```"
   ]
  },
  {
   "cell_type": "code",
   "execution_count": 26,
   "metadata": {},
   "outputs": [
    {
     "name": "stdout",
     "output_type": "stream",
     "text": [
      "2 яблока\n",
      "1 яблоко\n",
      "3 яблока\n",
      "4 яблока\n",
      "5 яблок\n",
      "11 яблок\n",
      "12 яблок\n",
      "21 яблоко\n",
      "23 яблока\n",
      "1223421 яблоко\n"
     ]
    }
   ],
   "source": [
    "def func(n, *args):\n",
    "    new_num = n\n",
    "    new_num %= 100\n",
    "    if (new_num >= 5 and new_num <= 20):\n",
    "      print(n, args[2])\n",
    "    else:\n",
    "        new_num %= 10\n",
    "        if (new_num == 1):\n",
    "            print(n, args[0])\n",
    "        elif (new_num >= 2 and new_num <= 4):\n",
    "            print(n, args[1])\n",
    "        else:\n",
    "            print(n, args[2])\n",
    "\n",
    "func(2, 'яблоко', 'яблока', 'яблок'); # выведет '2 яблока'\n",
    "func(1, 'яблоко', 'яблока', 'яблок'); # выведет '1 яблоко'\n",
    "func(3, 'яблоко', 'яблока', 'яблок'); # выведет '3 яблока'\n",
    "func(4, 'яблоко', 'яблока', 'яблок'); # выведет '4 яблока'\n",
    "func(5, 'яблоко', 'яблока', 'яблок'); # выведет '5 яблок'\n",
    "func(11, 'яблоко', 'яблока', 'яблок'); # выведет '11 яблок'\n",
    "func(12, 'яблоко', 'яблока', 'яблок'); # выведет '12 яблок'\n",
    "func(21, 'яблоко', 'яблока', 'яблок'); # выведет '21 яблоко'\n",
    "func(23, 'яблоко', 'яблока', 'яблок'); # выведет '23 яблока'\n",
    "func(1223421, 'яблоко', 'яблока', 'яблок'); # выведет '1223421 яблоко'"
   ]
  },
  {
   "cell_type": "markdown",
   "metadata": {},
   "source": [
    "### Задание 14\n",
    "Даны два числа. Выведите в консоль процесс умножения этих чисел в столбик, как в школе."
   ]
  },
  {
   "cell_type": "code",
   "execution_count": 44,
   "metadata": {},
   "outputs": [
    {
     "name": "stdout",
     "output_type": "stream",
     "text": [
      "   123\n",
      "    43\n",
      "   369\n",
      "  492\n",
      "  5289\n"
     ]
    }
   ],
   "source": [
    "a = 123\n",
    "b = 43\n",
    "\n",
    "if a < b:\n",
    "    a, b = b, a\n",
    "\n",
    "l_a, l_b = len(str(a)), len(str(b))\n",
    "\n",
    "print(\" \" * l_a, a, sep=\"\")\n",
    "print(\" \" * (2 * l_a - l_b), b, sep=\"\")\n",
    "\n",
    "copy_b = b\n",
    "\n",
    "for i in range(len(str(b))):\n",
    "    print(\" \" * (l_a - i) + str(copy_b % 10 * a))\n",
    "    copy_b //= 10\n",
    "\n",
    "result = a * b\n",
    "print(\" \" * (2*l_a - len(str(result))), result, sep=\"\")"
   ]
  },
  {
   "cell_type": "markdown",
   "metadata": {},
   "source": [
    "### Задание 15\n",
    "Даны два числа. Выведите на экран процесс деления этих чисел в столбик, как в школе."
   ]
  },
  {
   "cell_type": "code",
   "execution_count": 70,
   "metadata": {},
   "outputs": [
    {
     "name": "stdout",
     "output_type": "stream",
     "text": [
      "101534 | 13\n",
      "0\n",
      "10\n",
      " 0\n",
      "101\n",
      " 91\n",
      " 105\n",
      " 104\n",
      "   13\n",
      "   13\n",
      "     4\n",
      "     0\n",
      "     4\n",
      "\n",
      " 101534 // 13 = 7810, 101534 % 13 = 4\n"
     ]
    }
   ],
   "source": [
    "a = 101534\n",
    "b = 13\n",
    "\n",
    "ost = int(str(a)[0])\n",
    "ndigits = 0\n",
    "n = 1\n",
    "result = \"\"\n",
    "l_a = len(str(a))\n",
    "\n",
    "print(a, \"|\", b)\n",
    "\n",
    "for i in str(a)[1:]:\n",
    "    decr = ost // b * b\n",
    "    print(\" \" * (n - len(str(decr))), decr, sep=\"\")\n",
    "    ost = (ost - decr) * 10 + int(i)\n",
    "    n += 1\n",
    "    print(\" \" * (n - len(str(ost))), ost, sep=\"\")\n",
    "    \n",
    "    \n",
    "decr = ost // b * b\n",
    "print(\" \" * (n - len(str(decr))), decr, sep=\"\")\n",
    "ost -= decr\n",
    "if ost: print(\" \" * (n - len(str(ost))), ost, sep=\"\")\n",
    "\n",
    "print(f\"\\n {a} // {b} = {a//b}, {a} % {b} = {a % b}\")\n",
    "    \n"
   ]
  },
  {
   "cell_type": "markdown",
   "metadata": {},
   "source": [
    "### Задание 16\n",
    "Дано число. Выведите на экран процесс разложения числа на простые множители, как в школе.\n"
   ]
  },
  {
   "cell_type": "code",
   "execution_count": 79,
   "metadata": {},
   "outputs": [
    {
     "name": "stdout",
     "output_type": "stream",
     "text": [
      "401940 | 2\n",
      "200970 | 2\n",
      "100485 | 3\n",
      " 33495 | 3\n",
      " 11165 | 5\n",
      "  2233 | 7\n",
      "   319 | 11\n",
      "    29 | 29\n",
      "     1\n"
     ]
    }
   ],
   "source": [
    "def is_prime(n):\n",
    "    if 1 < n < 4: return True\n",
    "    if n % 2 == 0 or n < 2: return False\n",
    "    for i in range(3, int(n ** 0.5), 2):\n",
    "        if n % i == 0:\n",
    "            return False\n",
    "    return True\n",
    "\n",
    "a = 401940\n",
    "\n",
    "la = len(str(a))\n",
    "\n",
    "i = 2\n",
    "\n",
    "while a != 1:\n",
    "    if a % i == 0 and is_prime(i):\n",
    "        print(\" \" * (la - len(str(a))), a, f\" | {i}\", sep=\"\")\n",
    "        a //= i\n",
    "    else:\n",
    "        i += 1\n",
    "else:\n",
    "    print(\" \" * (la - len(str(a))), a, sep=\"\")"
   ]
  },
  {
   "cell_type": "markdown",
   "metadata": {},
   "source": [
    "### Задание 17\n",
    "Напишите программу, которая будет находить корни квадратного уравнения. Для этого спросите у пользователя три числа, которые будут коэффициентами уравнения.\n"
   ]
  },
  {
   "cell_type": "code",
   "execution_count": 82,
   "metadata": {},
   "outputs": [
    {
     "name": "stdout",
     "output_type": "stream",
     "text": [
      "Уравнение имеет вид: 4x^2 + 94x + 5\n",
      "D > 0, корни уравнения: x1 = -0.053, x2 = -23.447\n"
     ]
    }
   ],
   "source": [
    "import math\n",
    "\n",
    "a, b, c = map(int, input(\"Введите коэффициенты уравнения ax^2 + bx + c через пробел: \").split())\n",
    "\n",
    "d = int(b ** 2) - 4 * a * c\n",
    "\n",
    "print(f\"Уравнение имеет вид: {a}x^2 {'+' if b >= 0 else '-'} {b}x {'+' if c >= 0 else '-'} {c}\")\n",
    "\n",
    "if (d < 0):\n",
    "    print(\"D < 0, корней нет\")\n",
    "elif d == 0:\n",
    "    x = -b / (2 * a)\n",
    "    print(f\"D = 0, корень уравнения x = {x}\")\n",
    "else:\n",
    "    x1 = (-b + math.sqrt(d)) / (2 * a)\n",
    "    x2 = (-b - math.sqrt(d)) / (2 * a)\n",
    "    print(f\"D > 0, корни уравнения: x1 = {x1:.3f}, x2 = {x2:.3f}\")"
   ]
  },
  {
   "cell_type": "markdown",
   "metadata": {},
   "source": [
    "### Задание 18\n",
    "Напишите код, который будет генерировать пароль заданного размера. Пароль обязательно должен будет содержать маленькую и большую буквы, цифру и какой-то специальный символ.\n"
   ]
  },
  {
   "cell_type": "code",
   "execution_count": 100,
   "metadata": {},
   "outputs": [
    {
     "name": "stdout",
     "output_type": "stream",
     "text": [
      "H26:$\\[\"^k\n"
     ]
    }
   ],
   "source": [
    "# n = int(input(\"Введите длину пароля: \"))\n",
    "n = 10\n",
    "if (n < 4):\n",
    "    raise ValueError(\"Введите длину пароля больше 3\")\n",
    "\n",
    "import string\n",
    "import random\n",
    "\n",
    "characters = string.ascii_letters + string.digits + string.punctuation\n",
    "password = ''.join(random.choice(characters) for _ in range(n))\n",
    "\n",
    "idxs = []\n",
    "\n",
    "if not any(i in password for i in string.ascii_uppercase):\n",
    "    temp = random.randint(0, n - 1)\n",
    "    while True:\n",
    "        temp = random.randint(0, n - 1)\n",
    "        if temp not in idxs:\n",
    "            idxs.append(temp)\n",
    "            break\n",
    "    password = password[:temp] + random.choice(string.ascii_uppercase) + password[temp + 1:]\n",
    "\n",
    "if not any(i in password for i in string.ascii_lowercase):\n",
    "    temp = random.randint(0, n - 1)\n",
    "    while True:\n",
    "        temp = random.randint(0, n - 1)\n",
    "        if temp not in idxs:\n",
    "            idxs.append(temp)\n",
    "            break\n",
    "    password = password[:temp] + random.choice(string.ascii_lowercase) + password[temp + 1:]\n",
    "\n",
    "if not any(i in password for i in string.punctuation):\n",
    "    temp = random.randint(0, n - 1)\n",
    "    while True:\n",
    "        temp = random.randint(0, n - 1)\n",
    "        if temp not in idxs:\n",
    "            idxs.append(temp)\n",
    "            break\n",
    "    password = password[:temp] + random.choice(string.punctuation) + password[temp + 1:]\n",
    "\n",
    "if not any(i in password for i in string.digits):\n",
    "    temp = random.randint(0, n - 1)\n",
    "    while True:\n",
    "        temp = random.randint(0, n - 1)\n",
    "        if temp not in idxs:\n",
    "            idxs.append(temp)\n",
    "            break\n",
    "    password = password[:temp] + random.choice(string.digits) + password[temp + 1:]\n",
    "\n",
    "print(password)"
   ]
  },
  {
   "cell_type": "markdown",
   "metadata": {},
   "source": [
    "### Задание 19\n",
    "Напишите код, который будет проверять сложность пароля. Критерии сложности придумайте самостоятельно.\n"
   ]
  },
  {
   "cell_type": "code",
   "execution_count": 102,
   "metadata": {},
   "outputs": [
    {
     "name": "stdout",
     "output_type": "stream",
     "text": [
      "True\n",
      "False\n"
     ]
    }
   ],
   "source": [
    "password1 = \"H26:$\\[45^k\"\n",
    "password2 = \"3453453456234624535\"\n",
    "\n",
    "def test_password(st: str) -> bool: # True - хороший пароль, False - плохой\n",
    "    import string\n",
    "    return len(st) > 8 and any(i in st for i in string.digits) and any(i in st for i in string.ascii_lowercase) and any(i in st for i in string.ascii_uppercase)\n",
    "\n",
    "print(test_password(password1))\n",
    "print(test_password(password2))"
   ]
  },
  {
   "cell_type": "markdown",
   "metadata": {},
   "source": [
    "### Задание 20\n",
    "Реализуйте алгоритм Решето Эратосфена для поиска простых чисел в заданном промежутке"
   ]
  },
  {
   "cell_type": "code",
   "execution_count": 107,
   "metadata": {},
   "outputs": [
    {
     "name": "stdout",
     "output_type": "stream",
     "text": [
      "[1, 2, 3, 5, 7, 11, 13, 17, 19, 23, 29]\n"
     ]
    }
   ],
   "source": [
    "def primes(n: int):\n",
    "    nums = [i for i in range(1, n + 1)]\n",
    "    i = 2\n",
    "    while i * i <= n:\n",
    "        for j in nums:\n",
    "            if j % i == 0 and j != i:\n",
    "                nums.remove(j)\n",
    "        i += 1\n",
    "    return nums\n",
    "\n",
    "print(primes(30))"
   ]
  }
 ],
 "metadata": {
  "kernelspec": {
   "display_name": "6.86x",
   "language": "python",
   "name": "python3"
  },
  "language_info": {
   "codemirror_mode": {
    "name": "ipython",
    "version": 3
   },
   "file_extension": ".py",
   "mimetype": "text/x-python",
   "name": "python",
   "nbconvert_exporter": "python",
   "pygments_lexer": "ipython3",
   "version": "3.10.4"
  }
 },
 "nbformat": 4,
 "nbformat_minor": 2
}
